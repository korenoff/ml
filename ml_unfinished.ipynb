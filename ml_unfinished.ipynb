{
  "nbformat": 4,
  "nbformat_minor": 0,
  "metadata": {
    "colab": {
      "name": "Что происходит, памагитииии я не понимаюююююю.ipynb",
      "provenance": []
    },
    "kernelspec": {
      "name": "python3",
      "display_name": "Python 3"
    },
    "language_info": {
      "name": "python"
    }
  },
  "cells": [
    {
      "cell_type": "code",
      "execution_count": null,
      "metadata": {
        "id": "oljPyPtq9Ph3"
      },
      "outputs": [],
      "source": [
        "import os\n",
        "import torch\n",
        "import torch.nn as nn\n",
        "import torch.optim as optim\n",
        "import torch.nn.functional as F\n",
        "import torchvision\n",
        "import torchvision.transforms as transforms\n",
        "import matplotlib.pyplot as plt\n",
        "import numpy as np\n",
        "import matplotlib\n",
        "from tqdm import tqdm"
      ]
    },
    {
      "cell_type": "code",
      "source": [
        "def show_image(images, labele, n = 4):\n",
        "  plt.figure(figsize = (12, 12))\n",
        "  for i, image in enumerate(images[:n]):\n",
        "    plt.subplot(n, n, i + 1)\n",
        "    image = image / 2 + 0.5\n",
        "    plt.imshow(image.numpy().transpose((1, 2, 0)).squeeze())\n",
        "    "
      ],
      "metadata": {
        "id": "QMiEWCdJ--KU"
      },
      "execution_count": null,
      "outputs": []
    },
    {
      "cell_type": "code",
      "source": [
        "device = torch.device(\"cuda\" if torch.cuda.is_available() else \"cpu\")"
      ],
      "metadata": {
        "id": "PD0H0vL6GNNy"
      },
      "execution_count": null,
      "outputs": []
    },
    {
      "cell_type": "code",
      "source": [
        "transform = transforms.Compose(\n",
        "    [ transforms.ToTensor(),\n",
        "      transforms.Normalize( (0.5, 0.5, 0.5), (0.5, 0.5, 0.5)  )]\n",
        ")"
      ],
      "metadata": {
        "id": "KMPnssPGF8-l"
      },
      "execution_count": null,
      "outputs": []
    },
    {
      "cell_type": "code",
      "source": [
        ""
      ],
      "metadata": {
        "id": "U-zuVdLr-97K"
      },
      "execution_count": null,
      "outputs": []
    }
  ]
}